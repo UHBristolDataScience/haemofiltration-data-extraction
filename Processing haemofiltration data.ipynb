{
 "cells": [
  {
   "cell_type": "markdown",
   "metadata": {},
   "source": [
    "## In this notebook we process haemofiltration data that was extracted from the Philips ICCA system to make it ready for further analysis. "
   ]
  },
  {
   "cell_type": "code",
   "execution_count": 1,
   "metadata": {
    "collapsed": true
   },
   "outputs": [],
   "source": [
    "import pandas as pd\n",
    "import numpy as np\n",
    "import datetime as dt"
   ]
  },
  {
   "cell_type": "code",
   "execution_count": 16,
   "metadata": {},
   "outputs": [],
   "source": [
    "all_data = pd.read_csv('fresh_lab_results_haemofiltration.csv', skiprows=4, skipfooter=3, engine='python')"
   ]
  },
  {
   "cell_type": "markdown",
   "metadata": {},
   "source": [
    "#### First we merge the valueNumber and valueString columns - for 'Free Form Lab' results valueNumber will be missing and valueString will contain the result."
   ]
  },
  {
   "cell_type": "code",
   "execution_count": 111,
   "metadata": {
    "collapsed": true
   },
   "outputs": [],
   "source": [
    "def merge_values(row):\n",
    "    \n",
    "    val = row.valueNumber\n",
    "    if np.isnan(val):\n",
    "        try:\n",
    "            val = float(row.valueString)\n",
    "        except:\n",
    "            val = np.nan\n",
    "    return val"
   ]
  },
  {
   "cell_type": "code",
   "execution_count": 112,
   "metadata": {},
   "outputs": [],
   "source": [
    "all_data['value'] = all_data.apply(merge_values, axis=1)"
   ]
  },
  {
   "cell_type": "code",
   "execution_count": 113,
   "metadata": {},
   "outputs": [
    {
     "data": {
      "text/plain": [
       "Index([u'encounterId', u'interventionId', u'chartTime', u'storeTime',\n",
       "       u'longLabel', u'attributeId', u'valueString', u'valueNumber',\n",
       "       u'attribute', u'value'],\n",
       "      dtype='object')"
      ]
     },
     "execution_count": 113,
     "metadata": {},
     "output_type": "execute_result"
    }
   ],
   "source": [
    "all_data.columns"
   ]
  },
  {
   "cell_type": "markdown",
   "metadata": {},
   "source": [
    "#### We then group by [encounterId, interventionId and chartTime] and for each group we take the 'value' at the latest storeTime. This is because there may be multiple storeTimes for each chartTime and we must trust the latest one by default."
   ]
  },
  {
   "cell_type": "code",
   "execution_count": 115,
   "metadata": {},
   "outputs": [],
   "source": [
    "idx = all_data.groupby(['encounterId', 'interventionId','chartTime'])['storeTime'].transform(max) == all_data['storeTime']\n",
    "single_records = all_data[idx]"
   ]
  },
  {
   "cell_type": "code",
   "execution_count": 121,
   "metadata": {},
   "outputs": [],
   "source": [
    "lab_results = single_records.pivot_table(index=['encounterId','chartTime'], columns='longLabel', values='value')"
   ]
  },
  {
   "cell_type": "code",
   "execution_count": 123,
   "metadata": {},
   "outputs": [],
   "source": [
    "lab_results.reset_index(level=['encounterId', 'chartTime'], inplace=True)"
   ]
  },
  {
   "cell_type": "markdown",
   "metadata": {},
   "source": [
    "#### We now merge the multiple HCO3 measures."
   ]
  },
  {
   "cell_type": "code",
   "execution_count": 157,
   "metadata": {},
   "outputs": [],
   "source": [
    "def merge_hco3(row):\n",
    "    \n",
    "    val = row[['HCO3-std']][0]\n",
    "    for substitue in ['HCO3 std', 'HCO3(c)', 'HCO3-(c)']:\n",
    "        if not np.isnan(val):\n",
    "            break\n",
    "        val = row[[substitue]][0]\n",
    "    return val"
   ]
  },
  {
   "cell_type": "code",
   "execution_count": 158,
   "metadata": {},
   "outputs": [],
   "source": [
    "lab_results['HCO3'] = lab_results.apply(merge_hco3, axis=1)"
   ]
  },
  {
   "cell_type": "markdown",
   "metadata": {},
   "source": [
    "#### We convert the datetime format to UK standard."
   ]
  },
  {
   "cell_type": "code",
   "execution_count": 135,
   "metadata": {
    "collapsed": true
   },
   "outputs": [],
   "source": [
    "lab_results['chartTime'] = pd.to_datetime(lab_results.chartTime)"
   ]
  },
  {
   "cell_type": "code",
   "execution_count": 140,
   "metadata": {
    "collapsed": true
   },
   "outputs": [],
   "source": [
    "lab_results['time'] = lab_results['chartTime'].dt.strftime('%d/%m/%Y %H:%M:%S')\n",
    "lab_results = lab_results.drop('chartTime', axis=1)"
   ]
  },
  {
   "cell_type": "markdown",
   "metadata": {},
   "source": [
    "#### And we reorder and rename the columns for clarity."
   ]
  },
  {
   "cell_type": "code",
   "execution_count": 159,
   "metadata": {
    "collapsed": true
   },
   "outputs": [],
   "source": [
    "lab_results_clear = pd.DataFrame()\n",
    "lab_results_clear['encounterId'] = lab_results['encounterId']\n",
    "lab_results_clear['time'] = lab_results['time']\n",
    "lab_results_clear['Sodium (blood gas)'] = lab_results['Na']\n",
    "lab_results_clear['Potassium (blood gas)'] = lab_results['K']\n",
    "lab_results_clear['Sodium (labs)'] = lab_results['Sodium']\n",
    "lab_results_clear['Potassium (labs)'] = lab_results['Potassium']\n",
    "lab_results_clear['pH'] = lab_results['pH']\n",
    "lab_results_clear['Ca++'] = lab_results['Ca++']\n",
    "lab_results_clear['HCO3'] = lab_results['HCO3']\n",
    "lab_results_clear['Urea'] = lab_results['Urea']\n",
    "lab_results_clear['Creatinine'] = lab_results['Creatinine']"
   ]
  },
  {
   "cell_type": "code",
   "execution_count": 160,
   "metadata": {},
   "outputs": [
    {
     "data": {
      "text/html": [
       "<div>\n",
       "<style>\n",
       "    .dataframe thead tr:only-child th {\n",
       "        text-align: right;\n",
       "    }\n",
       "\n",
       "    .dataframe thead th {\n",
       "        text-align: left;\n",
       "    }\n",
       "\n",
       "    .dataframe tbody tr th {\n",
       "        vertical-align: top;\n",
       "    }\n",
       "</style>\n",
       "<table border=\"1\" class=\"dataframe\">\n",
       "  <thead>\n",
       "    <tr style=\"text-align: right;\">\n",
       "      <th></th>\n",
       "      <th>encounterId</th>\n",
       "      <th>time</th>\n",
       "      <th>Sodium (blood gas)</th>\n",
       "      <th>Potassium (blood gas)</th>\n",
       "      <th>Sodium (labs)</th>\n",
       "      <th>Potassium (labs)</th>\n",
       "      <th>pH</th>\n",
       "      <th>Ca++</th>\n",
       "      <th>HCO3</th>\n",
       "      <th>Urea</th>\n",
       "      <th>Creatinine</th>\n",
       "    </tr>\n",
       "  </thead>\n",
       "  <tbody>\n",
       "    <tr>\n",
       "      <th>0</th>\n",
       "      <td>769</td>\n",
       "      <td>01/02/2015 09:36:00</td>\n",
       "      <td>138.0</td>\n",
       "      <td>2.6</td>\n",
       "      <td>NaN</td>\n",
       "      <td>NaN</td>\n",
       "      <td>7.17</td>\n",
       "      <td>0.94</td>\n",
       "      <td>14.1</td>\n",
       "      <td>NaN</td>\n",
       "      <td>NaN</td>\n",
       "    </tr>\n",
       "    <tr>\n",
       "      <th>1</th>\n",
       "      <td>769</td>\n",
       "      <td>01/02/2015 09:38:00</td>\n",
       "      <td>NaN</td>\n",
       "      <td>NaN</td>\n",
       "      <td>139.0</td>\n",
       "      <td>2.9</td>\n",
       "      <td>NaN</td>\n",
       "      <td>NaN</td>\n",
       "      <td>NaN</td>\n",
       "      <td>2.6</td>\n",
       "      <td>59.0</td>\n",
       "    </tr>\n",
       "    <tr>\n",
       "      <th>2</th>\n",
       "      <td>769</td>\n",
       "      <td>01/02/2015 11:50:00</td>\n",
       "      <td>137.0</td>\n",
       "      <td>2.8</td>\n",
       "      <td>NaN</td>\n",
       "      <td>NaN</td>\n",
       "      <td>7.27</td>\n",
       "      <td>0.93</td>\n",
       "      <td>17.4</td>\n",
       "      <td>NaN</td>\n",
       "      <td>NaN</td>\n",
       "    </tr>\n",
       "    <tr>\n",
       "      <th>3</th>\n",
       "      <td>769</td>\n",
       "      <td>01/02/2015 12:15:00</td>\n",
       "      <td>NaN</td>\n",
       "      <td>NaN</td>\n",
       "      <td>141.0</td>\n",
       "      <td>3.3</td>\n",
       "      <td>NaN</td>\n",
       "      <td>NaN</td>\n",
       "      <td>NaN</td>\n",
       "      <td>2.8</td>\n",
       "      <td>53.0</td>\n",
       "    </tr>\n",
       "    <tr>\n",
       "      <th>4</th>\n",
       "      <td>769</td>\n",
       "      <td>01/02/2015 12:55:00</td>\n",
       "      <td>136.0</td>\n",
       "      <td>3.1</td>\n",
       "      <td>NaN</td>\n",
       "      <td>NaN</td>\n",
       "      <td>7.28</td>\n",
       "      <td>0.98</td>\n",
       "      <td>17.5</td>\n",
       "      <td>NaN</td>\n",
       "      <td>NaN</td>\n",
       "    </tr>\n",
       "  </tbody>\n",
       "</table>\n",
       "</div>"
      ],
      "text/plain": [
       "   encounterId                 time  Sodium (blood gas)  \\\n",
       "0          769  01/02/2015 09:36:00               138.0   \n",
       "1          769  01/02/2015 09:38:00                 NaN   \n",
       "2          769  01/02/2015 11:50:00               137.0   \n",
       "3          769  01/02/2015 12:15:00                 NaN   \n",
       "4          769  01/02/2015 12:55:00               136.0   \n",
       "\n",
       "   Potassium (blood gas)  Sodium (labs)  Potassium (labs)    pH  Ca++  HCO3  \\\n",
       "0                    2.6            NaN               NaN  7.17  0.94  14.1   \n",
       "1                    NaN          139.0               2.9   NaN   NaN   NaN   \n",
       "2                    2.8            NaN               NaN  7.27  0.93  17.4   \n",
       "3                    NaN          141.0               3.3   NaN   NaN   NaN   \n",
       "4                    3.1            NaN               NaN  7.28  0.98  17.5   \n",
       "\n",
       "   Urea  Creatinine  \n",
       "0   NaN         NaN  \n",
       "1   2.6        59.0  \n",
       "2   NaN         NaN  \n",
       "3   2.8        53.0  \n",
       "4   NaN         NaN  "
      ]
     },
     "execution_count": 160,
     "metadata": {},
     "output_type": "execute_result"
    }
   ],
   "source": [
    "lab_results_clear.head()"
   ]
  },
  {
   "cell_type": "markdown",
   "metadata": {},
   "source": [
    "#### Finally we save the processed data as a csv file for portability."
   ]
  },
  {
   "cell_type": "code",
   "execution_count": 161,
   "metadata": {
    "collapsed": true
   },
   "outputs": [],
   "source": [
    "lab_results_clear.to_csv('haemofiltration_labresults_processed.csv')"
   ]
  },
  {
   "cell_type": "markdown",
   "metadata": {},
   "source": [
    "-----------------------------------------------------------------------------------\n",
    "### We will  now follow a similar procedure to process the flowsheet variables relating to haemofiltration."
   ]
  },
  {
   "cell_type": "code",
   "execution_count": 170,
   "metadata": {},
   "outputs": [],
   "source": [
    "all_data = pd.read_csv('fresh_pt_assessment_haemofiltration.rpt', skiprows=2, skipfooter=3, engine='python', delimiter='\\t')"
   ]
  },
  {
   "cell_type": "markdown",
   "metadata": {},
   "source": [
    "#### First we merge the valueNumber and valueString columns, putting everything intpo string format."
   ]
  },
  {
   "cell_type": "code",
   "execution_count": 180,
   "metadata": {
    "collapsed": true
   },
   "outputs": [],
   "source": [
    "def merge_values(row):\n",
    "    \n",
    "    val = row.valueString\n",
    "    if not type(val) is str:\n",
    "        try:\n",
    "            val = str(row.valueNumber)\n",
    "        except:\n",
    "            val = np.nan\n",
    "    return val"
   ]
  },
  {
   "cell_type": "code",
   "execution_count": 181,
   "metadata": {},
   "outputs": [],
   "source": [
    "all_data['value'] = all_data.apply(merge_values, axis=1)"
   ]
  },
  {
   "cell_type": "code",
   "execution_count": 182,
   "metadata": {},
   "outputs": [
    {
     "data": {
      "text/plain": [
       "Index([u'encounterId', u'interventionId', u'chartTime', u'storeTime',\n",
       "       u'longLabel', u'attributeId', u'valueString', u'valueNumber',\n",
       "       u'attribute', u'value'],\n",
       "      dtype='object')"
      ]
     },
     "execution_count": 182,
     "metadata": {},
     "output_type": "execute_result"
    }
   ],
   "source": [
    "all_data.columns"
   ]
  },
  {
   "cell_type": "markdown",
   "metadata": {},
   "source": [
    "#### We then group by [encounterId, interventionId and chartTime] and for each group we take the 'value' at the latest storeTime. This is because there may be multiple storeTimes for each chartTime and we must trust the latest one by default."
   ]
  },
  {
   "cell_type": "code",
   "execution_count": 211,
   "metadata": {
    "collapsed": true
   },
   "outputs": [],
   "source": [
    "idx = all_data.groupby(['encounterId', 'interventionId','chartTime'])['storeTime'].transform(max) == all_data['storeTime']\n",
    "single_records = all_data[idx]"
   ]
  },
  {
   "cell_type": "code",
   "execution_count": 212,
   "metadata": {},
   "outputs": [],
   "source": [
    "flowsheet = single_records.pivot_table(index=['encounterId','chartTime'], columns='longLabel', values='value', aggfunc=lambda x: ' '.join(x))"
   ]
  },
  {
   "cell_type": "code",
   "execution_count": 213,
   "metadata": {
    "collapsed": true
   },
   "outputs": [],
   "source": [
    "flowsheet.reset_index(level=['encounterId', 'chartTime'], inplace=True)"
   ]
  },
  {
   "cell_type": "code",
   "execution_count": 214,
   "metadata": {
    "collapsed": true
   },
   "outputs": [],
   "source": [
    "flowsheet['encounterId'] = pd.to_numeric(flowsheet.encounterId)\n",
    "flowsheet['chartTime'] = pd.to_datetime(flowsheet.chartTime)\n",
    "flowsheet.sort_values(by=['encounterId', 'chartTime'], ascending=True, inplace=True)"
   ]
  },
  {
   "cell_type": "markdown",
   "metadata": {},
   "source": [
    "#### We convert the datetime format to UK standard."
   ]
  },
  {
   "cell_type": "code",
   "execution_count": 217,
   "metadata": {},
   "outputs": [],
   "source": [
    "flowsheet['chartTime'] = pd.to_datetime(flowsheet.chartTime)"
   ]
  },
  {
   "cell_type": "code",
   "execution_count": 218,
   "metadata": {
    "collapsed": true
   },
   "outputs": [],
   "source": [
    "flowsheet['chartTime'] = flowsheet['chartTime'].dt.strftime('%d/%m/%Y %H:%M:%S')"
   ]
  },
  {
   "cell_type": "code",
   "execution_count": 224,
   "metadata": {},
   "outputs": [],
   "source": [
    "cols = flowsheet.columns.values\n",
    "cols[1] = 'time'\n",
    "flowsheet.columns = cols"
   ]
  },
  {
   "cell_type": "code",
   "execution_count": 225,
   "metadata": {},
   "outputs": [
    {
     "data": {
      "text/html": [
       "<div>\n",
       "<style>\n",
       "    .dataframe thead tr:only-child th {\n",
       "        text-align: right;\n",
       "    }\n",
       "\n",
       "    .dataframe thead th {\n",
       "        text-align: left;\n",
       "    }\n",
       "\n",
       "    .dataframe tbody tr th {\n",
       "        vertical-align: top;\n",
       "    }\n",
       "</style>\n",
       "<table border=\"1\" class=\"dataframe\">\n",
       "  <thead>\n",
       "    <tr style=\"text-align: right;\">\n",
       "      <th></th>\n",
       "      <th>encounterId</th>\n",
       "      <th>time</th>\n",
       "      <th>Blood Flow Rate</th>\n",
       "      <th>Calcium Chloride Dose Adjustment</th>\n",
       "      <th>Calcium Dose</th>\n",
       "      <th>Citrate Dose</th>\n",
       "      <th>Citrate Dose Adjustment</th>\n",
       "      <th>Exchange Rate</th>\n",
       "      <th>Filter Set</th>\n",
       "      <th>Filter in Use</th>\n",
       "      <th>First Checker</th>\n",
       "      <th>Fluid Removed</th>\n",
       "      <th>Pre-Filter Pressure</th>\n",
       "      <th>Reason for Filter Loss</th>\n",
       "      <th>Return (Venous) Pressure</th>\n",
       "      <th>Therapy Run Time</th>\n",
       "      <th>Therapy Type</th>\n",
       "    </tr>\n",
       "  </thead>\n",
       "  <tbody>\n",
       "    <tr>\n",
       "      <th>100965</th>\n",
       "      <td>794</td>\n",
       "      <td>03/02/2015 22:00:00</td>\n",
       "      <td>100.0</td>\n",
       "      <td>None</td>\n",
       "      <td>None</td>\n",
       "      <td>None</td>\n",
       "      <td>None</td>\n",
       "      <td>25.0</td>\n",
       "      <td>ST150</td>\n",
       "      <td>None</td>\n",
       "      <td>None</td>\n",
       "      <td>0.0</td>\n",
       "      <td>None</td>\n",
       "      <td>None</td>\n",
       "      <td>56.0</td>\n",
       "      <td>None</td>\n",
       "      <td>CVVHDF</td>\n",
       "    </tr>\n",
       "    <tr>\n",
       "      <th>100966</th>\n",
       "      <td>794</td>\n",
       "      <td>03/02/2015 23:00:00</td>\n",
       "      <td>200.0</td>\n",
       "      <td>None</td>\n",
       "      <td>None</td>\n",
       "      <td>None</td>\n",
       "      <td>None</td>\n",
       "      <td>25.0</td>\n",
       "      <td>ST150</td>\n",
       "      <td>None</td>\n",
       "      <td>None</td>\n",
       "      <td>100.0</td>\n",
       "      <td>None</td>\n",
       "      <td>None</td>\n",
       "      <td>28.0</td>\n",
       "      <td>None</td>\n",
       "      <td>CVVHDF</td>\n",
       "    </tr>\n",
       "    <tr>\n",
       "      <th>100967</th>\n",
       "      <td>794</td>\n",
       "      <td>04/02/2015 01:00:00</td>\n",
       "      <td>200.0</td>\n",
       "      <td>None</td>\n",
       "      <td>None</td>\n",
       "      <td>None</td>\n",
       "      <td>None</td>\n",
       "      <td>25.0</td>\n",
       "      <td>ST150</td>\n",
       "      <td>None</td>\n",
       "      <td>None</td>\n",
       "      <td>100.0</td>\n",
       "      <td>None</td>\n",
       "      <td>None</td>\n",
       "      <td>130.0</td>\n",
       "      <td>None</td>\n",
       "      <td>CVVHDF</td>\n",
       "    </tr>\n",
       "    <tr>\n",
       "      <th>100968</th>\n",
       "      <td>794</td>\n",
       "      <td>04/02/2015 02:00:00</td>\n",
       "      <td>200.0</td>\n",
       "      <td>None</td>\n",
       "      <td>None</td>\n",
       "      <td>None</td>\n",
       "      <td>None</td>\n",
       "      <td>25.0</td>\n",
       "      <td>ST150</td>\n",
       "      <td>None</td>\n",
       "      <td>None</td>\n",
       "      <td>200.0</td>\n",
       "      <td>None</td>\n",
       "      <td>None</td>\n",
       "      <td>125.0</td>\n",
       "      <td>None</td>\n",
       "      <td>CvvHDF</td>\n",
       "    </tr>\n",
       "    <tr>\n",
       "      <th>100969</th>\n",
       "      <td>794</td>\n",
       "      <td>04/02/2015 03:00:00</td>\n",
       "      <td>200.0</td>\n",
       "      <td>None</td>\n",
       "      <td>None</td>\n",
       "      <td>None</td>\n",
       "      <td>None</td>\n",
       "      <td>25.0</td>\n",
       "      <td>St150</td>\n",
       "      <td>None</td>\n",
       "      <td>None</td>\n",
       "      <td>200.0</td>\n",
       "      <td>None</td>\n",
       "      <td>None</td>\n",
       "      <td>140.0</td>\n",
       "      <td>None</td>\n",
       "      <td>CVVHDF</td>\n",
       "    </tr>\n",
       "  </tbody>\n",
       "</table>\n",
       "</div>"
      ],
      "text/plain": [
       "        encounterId                 time Blood Flow Rate  \\\n",
       "100965          794  03/02/2015 22:00:00           100.0   \n",
       "100966          794  03/02/2015 23:00:00           200.0   \n",
       "100967          794  04/02/2015 01:00:00           200.0   \n",
       "100968          794  04/02/2015 02:00:00           200.0   \n",
       "100969          794  04/02/2015 03:00:00           200.0   \n",
       "\n",
       "       Calcium Chloride Dose Adjustment Calcium Dose Citrate Dose  \\\n",
       "100965                             None         None         None   \n",
       "100966                             None         None         None   \n",
       "100967                             None         None         None   \n",
       "100968                             None         None         None   \n",
       "100969                             None         None         None   \n",
       "\n",
       "       Citrate Dose Adjustment Exchange Rate Filter Set Filter in Use  \\\n",
       "100965                    None          25.0      ST150          None   \n",
       "100966                    None          25.0      ST150          None   \n",
       "100967                    None          25.0      ST150          None   \n",
       "100968                    None          25.0      ST150          None   \n",
       "100969                    None          25.0      St150          None   \n",
       "\n",
       "       First Checker Fluid Removed Pre-Filter Pressure Reason for Filter Loss  \\\n",
       "100965          None           0.0                None                   None   \n",
       "100966          None         100.0                None                   None   \n",
       "100967          None         100.0                None                   None   \n",
       "100968          None         200.0                None                   None   \n",
       "100969          None         200.0                None                   None   \n",
       "\n",
       "       Return (Venous) Pressure Therapy Run Time Therapy Type  \n",
       "100965                     56.0             None       CVVHDF  \n",
       "100966                     28.0             None       CVVHDF  \n",
       "100967                    130.0             None       CVVHDF  \n",
       "100968                    125.0             None       CvvHDF  \n",
       "100969                    140.0             None       CVVHDF  "
      ]
     },
     "execution_count": 225,
     "metadata": {},
     "output_type": "execute_result"
    }
   ],
   "source": [
    "flowsheet.head()"
   ]
  },
  {
   "cell_type": "markdown",
   "metadata": {},
   "source": [
    "#### And we save the data as csv."
   ]
  },
  {
   "cell_type": "code",
   "execution_count": 226,
   "metadata": {
    "collapsed": true
   },
   "outputs": [],
   "source": [
    "flowsheet.to_csv('haemofiltration_ptassessment_processed.csv')"
   ]
  },
  {
   "cell_type": "markdown",
   "metadata": {},
   "source": [
    "-----------------------------------------------------------------------------------\n",
    "### Finally we process the patient summary data."
   ]
  },
  {
   "cell_type": "code",
   "execution_count": 18,
   "metadata": {
    "collapsed": true
   },
   "outputs": [],
   "source": [
    "all_data = pd.read_csv('fresh_patient_summary_haemofiltration.rpt', skiprows=0, skipfooter=4, engine='python', delimiter='\\t')"
   ]
  },
  {
   "cell_type": "markdown",
   "metadata": {},
   "source": [
    "#### Here we simply convert the datetime format and the column names for clarity."
   ]
  },
  {
   "cell_type": "code",
   "execution_count": 20,
   "metadata": {
    "collapsed": true
   },
   "outputs": [],
   "source": [
    "all_data['inTIME'] = pd.to_datetime(all_data.inTIME)\n",
    "all_data['outTime'] = pd.to_datetime(all_data.outTime)"
   ]
  },
  {
   "cell_type": "code",
   "execution_count": 21,
   "metadata": {
    "collapsed": true
   },
   "outputs": [],
   "source": [
    "all_data['outTime'] = all_data['outTime'].dt.strftime('%d/%m/%Y %H:%M:%S')\n",
    "all_data['inTIME'] = all_data['inTIME'].dt.strftime('%d/%m/%Y %H:%M:%S')"
   ]
  },
  {
   "cell_type": "code",
   "execution_count": 23,
   "metadata": {},
   "outputs": [],
   "source": [
    "cols = all_data.columns.values"
   ]
  },
  {
   "cell_type": "code",
   "execution_count": 25,
   "metadata": {},
   "outputs": [],
   "source": [
    "cols[0] = 'encounterId'\n",
    "cols[1] = 'inTime'\n",
    "all_data.columns = cols"
   ]
  },
  {
   "cell_type": "code",
   "execution_count": 26,
   "metadata": {
    "collapsed": true
   },
   "outputs": [],
   "source": [
    "all_data.to_csv('haemofiltration_patient_summary_processed.csv')"
   ]
  },
  {
   "cell_type": "code",
   "execution_count": 28,
   "metadata": {},
   "outputs": [],
   "source": [
    "## We do not display the data here because it contains identifiable patient info.\n",
    "##all_data.head()"
   ]
  }
 ],
 "metadata": {
  "kernelspec": {
   "display_name": "Python 2",
   "language": "python",
   "name": "python2"
  },
  "language_info": {
   "codemirror_mode": {
    "name": "ipython",
    "version": 2
   },
   "file_extension": ".py",
   "mimetype": "text/x-python",
   "name": "python",
   "nbconvert_exporter": "python",
   "pygments_lexer": "ipython2",
   "version": "2.7.13"
  }
 },
 "nbformat": 4,
 "nbformat_minor": 2
}
